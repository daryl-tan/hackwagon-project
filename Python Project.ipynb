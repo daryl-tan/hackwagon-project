{
 "cells": [
  {
   "cell_type": "markdown",
   "metadata": {},
   "source": [
    "## DS102 Project\n",
    "\n",
    "#### Research Topic\n",
    "Investigating how temperature, humidity and rainfall affects tourist arrivals to Singapore. \n",
    "\n",
    "#### Reason for choice of topic\n",
    "\n",
    "#### Dataset \n",
    "1. Monthly Visitor Arrivals from Singapore Tourism Board in the form of Excel spreadsheet\n",
    "2. Realtime Weather Readings from Jan 2017 to Nov 2018 across Singapore from data.gov.sg in the form of APIs\n",
    "    - Air Temperature\n",
    "    - Relative Humidity \n",
    "    - Rainfall  \n",
    "\n"
   ]
  },
  {
   "cell_type": "code",
   "execution_count": 50,
   "metadata": {},
   "outputs": [],
   "source": [
    "# import libraries \n",
    "import pandas as pd \n",
    "import numpy as np \n",
    "import matplotlib\n",
    "import datetime \n",
    "import requests \n",
    "import csv\n",
    "import time\n"
   ]
  },
  {
   "cell_type": "code",
   "execution_count": 52,
   "metadata": {},
   "outputs": [],
   "source": [
    "# making API calls\n",
    "\n",
    "def get(url): \n",
    "    resp = requests.get(url)\n",
    "    if resp.ok:\n",
    "        return resp.json()\n",
    "    \n",
    "\n",
    "date = datetime.date(2016,12,31)\n",
    "date_list = []\n",
    "url_list = [] # storing all the urls \n",
    "for i in range(10): # 730 is from jan 2017 to dec 2018 \n",
    "    date += datetime.timedelta(days=1) # looping to increase days by 1\n",
    "    start_url = f\"https://api.data.gov.sg/v1/environment/air-temperature?date={date}\"\n",
    "    url_list.append(start_url) \n",
    "    date_list.append(date)\n",
    "    "
   ]
  },
  {
   "cell_type": "code",
   "execution_count": 53,
   "metadata": {},
   "outputs": [
    {
     "data": {
      "text/html": [
       "<div>\n",
       "<style scoped>\n",
       "    .dataframe tbody tr th:only-of-type {\n",
       "        vertical-align: middle;\n",
       "    }\n",
       "\n",
       "    .dataframe tbody tr th {\n",
       "        vertical-align: top;\n",
       "    }\n",
       "\n",
       "    .dataframe thead th {\n",
       "        text-align: right;\n",
       "    }\n",
       "</style>\n",
       "<table border=\"1\" class=\"dataframe\">\n",
       "  <thead>\n",
       "    <tr style=\"text-align: right;\">\n",
       "      <th></th>\n",
       "      <th>Mean Temperature</th>\n",
       "    </tr>\n",
       "  </thead>\n",
       "  <tbody>\n",
       "    <tr>\n",
       "      <th>2017-01-01</th>\n",
       "      <td>27.17</td>\n",
       "    </tr>\n",
       "    <tr>\n",
       "      <th>2017-01-02</th>\n",
       "      <td>26.86</td>\n",
       "    </tr>\n",
       "    <tr>\n",
       "      <th>2017-01-03</th>\n",
       "      <td>26.83</td>\n",
       "    </tr>\n",
       "    <tr>\n",
       "      <th>2017-01-04</th>\n",
       "      <td>26.90</td>\n",
       "    </tr>\n",
       "    <tr>\n",
       "      <th>2017-01-05</th>\n",
       "      <td>27.12</td>\n",
       "    </tr>\n",
       "    <tr>\n",
       "      <th>2017-01-06</th>\n",
       "      <td>27.39</td>\n",
       "    </tr>\n",
       "    <tr>\n",
       "      <th>2017-01-07</th>\n",
       "      <td>27.70</td>\n",
       "    </tr>\n",
       "    <tr>\n",
       "      <th>2017-01-08</th>\n",
       "      <td>27.93</td>\n",
       "    </tr>\n",
       "    <tr>\n",
       "      <th>2017-01-09</th>\n",
       "      <td>28.05</td>\n",
       "    </tr>\n",
       "    <tr>\n",
       "      <th>2017-01-10</th>\n",
       "      <td>28.09</td>\n",
       "    </tr>\n",
       "  </tbody>\n",
       "</table>\n",
       "</div>"
      ],
      "text/plain": [
       "            Mean Temperature\n",
       "2017-01-01             27.17\n",
       "2017-01-02             26.86\n",
       "2017-01-03             26.83\n",
       "2017-01-04             26.90\n",
       "2017-01-05             27.12\n",
       "2017-01-06             27.39\n",
       "2017-01-07             27.70\n",
       "2017-01-08             27.93\n",
       "2017-01-09             28.05\n",
       "2017-01-10             28.09"
      ]
     },
     "execution_count": 53,
     "metadata": {},
     "output_type": "execute_result"
    }
   ],
   "source": [
    "value_list = [] # contains all values in list of list \n",
    "mean_list = [] # contains all mean temperature by date \n",
    "data_dict = {} # dict containing date and mean temperature\n",
    "# value_list_list = []\n",
    "for url in (url_list): # narrowing down to get value for that time of the day \n",
    "    data = get(url)  \n",
    "    datestamp = (data[\"items\"][0][\"timestamp\"])[0:10] \n",
    "    readings = [info.get(\"readings\") for info in data[\"items\"]]\n",
    "    for list1 in readings:\n",
    "        for list2 in list1: \n",
    "            value_list.append(list2.get(\"value\"))\n",
    "    mean_temp = round((sum(value_list)/len(value_list)), 2)\n",
    "    data_dict[datestamp] = [mean_temp]\n",
    "    time.sleep(10)\n",
    "\n",
    "df = pd.DataFrame.from_dict(data_dict, orient=\"index\", columns = [\"Mean Temperature\"])\n",
    "df\n",
    "\n",
    "# data_dict\n",
    "\n",
    "\n",
    "\n"
   ]
  },
  {
   "cell_type": "code",
   "execution_count": null,
   "metadata": {},
   "outputs": [],
   "source": []
  },
  {
   "cell_type": "code",
   "execution_count": null,
   "metadata": {},
   "outputs": [],
   "source": []
  },
  {
   "cell_type": "code",
   "execution_count": null,
   "metadata": {},
   "outputs": [],
   "source": []
  },
  {
   "cell_type": "code",
   "execution_count": null,
   "metadata": {},
   "outputs": [],
   "source": []
  },
  {
   "cell_type": "code",
   "execution_count": null,
   "metadata": {},
   "outputs": [],
   "source": []
  },
  {
   "cell_type": "code",
   "execution_count": null,
   "metadata": {},
   "outputs": [],
   "source": []
  },
  {
   "cell_type": "code",
   "execution_count": null,
   "metadata": {},
   "outputs": [],
   "source": []
  }
 ],
 "metadata": {
  "kernelspec": {
   "display_name": "Python 3",
   "language": "python",
   "name": "python3"
  },
  "language_info": {
   "codemirror_mode": {
    "name": "ipython",
    "version": 3
   },
   "file_extension": ".py",
   "mimetype": "text/x-python",
   "name": "python",
   "nbconvert_exporter": "python",
   "pygments_lexer": "ipython3",
   "version": "3.6.5"
  }
 },
 "nbformat": 4,
 "nbformat_minor": 2
}
