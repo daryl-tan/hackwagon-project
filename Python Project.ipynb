{
 "cells": [
  {
   "cell_type": "markdown",
   "metadata": {},
   "source": [
    "## DS102 Project\n",
    "\n",
    "#### Research Topic\n",
    "Investigating how temperature, humidity and rainfall affects tourist arrivals to Singapore. \n",
    "\n",
    "#### Reason for choice of topic\n",
    "\n",
    "#### Dataset \n",
    "1. Monthly Visitor Arrivals from Singapore Tourism Board in the form of Excel spreadsheet\n",
    "2. Realtime Weather Readings from Jan 2017 to Nov 2018 across Singapore from data.gov.sg in the form of APIs\n",
    "    - Air Temperature\n",
    "    - Relative Humidity \n",
    "    - Rainfall  \n",
    "    \n",
    "#### Challenges \n",
    "\n",
    "1. Data from data.gov was incomplete (2018-02-07) had no data \n",
    "2. Getting temp banned by data.gov\n",
    "\n",
    "error at 2018-02-07\n",
    "error at 2018-02-18\n",
    "error at 2018-04-12\n",
    "error at 2018-04-13\n",
    "error at 2018-04-14\n",
    "error at 2018-04-15"
   ]
  },
  {
   "cell_type": "code",
   "execution_count": 145,
   "metadata": {},
   "outputs": [],
   "source": [
    "# import libraries \n",
    "import pandas as pd \n",
    "import numpy as np \n",
    "import matplotlib\n",
    "import datetime \n",
    "import requests \n",
    "import csv\n",
    "import time\n"
   ]
  },
  {
   "cell_type": "code",
   "execution_count": 150,
   "metadata": {},
   "outputs": [],
   "source": [
    "# making API calls\n",
    "\n",
    "def get(url): \n",
    "    resp = requests.get(url)\n",
    "    if resp.ok:\n",
    "        return resp.json()\n",
    "    \n",
    "\n",
    "date = datetime.date(2016,12,31)\n",
    "date_list = []\n",
    "url_list = [] # storing all the urls \n",
    "for i in range(730): # 730 is from jan 2017 to dec 2018 \n",
    "    date += datetime.timedelta(days=1) # looping to increase days by 1\n",
    "    start_url = f\"https://api.data.gov.sg/v1/environment/air-temperature?date={date}\"\n",
    "    url_list.append(start_url) \n",
    "    date_list.append(date)\n"
   ]
  },
  {
   "cell_type": "code",
   "execution_count": 149,
   "metadata": {},
   "outputs": [
    {
     "data": {
      "text/html": [
       "<div>\n",
       "<style scoped>\n",
       "    .dataframe tbody tr th:only-of-type {\n",
       "        vertical-align: middle;\n",
       "    }\n",
       "\n",
       "    .dataframe tbody tr th {\n",
       "        vertical-align: top;\n",
       "    }\n",
       "\n",
       "    .dataframe thead th {\n",
       "        text-align: right;\n",
       "    }\n",
       "</style>\n",
       "<table border=\"1\" class=\"dataframe\">\n",
       "  <thead>\n",
       "    <tr style=\"text-align: right;\">\n",
       "      <th></th>\n",
       "      <th>Mean Temperature</th>\n",
       "    </tr>\n",
       "  </thead>\n",
       "  <tbody>\n",
       "    <tr>\n",
       "      <th>2017-01-01</th>\n",
       "      <td>28.87</td>\n",
       "    </tr>\n",
       "    <tr>\n",
       "      <th>2017-01-02</th>\n",
       "      <td>28.25</td>\n",
       "    </tr>\n",
       "    <tr>\n",
       "      <th>2017-01-03</th>\n",
       "      <td>28.25</td>\n",
       "    </tr>\n",
       "    <tr>\n",
       "      <th>2017-01-04</th>\n",
       "      <td>28.32</td>\n",
       "    </tr>\n",
       "    <tr>\n",
       "      <th>2017-01-05</th>\n",
       "      <td>28.61</td>\n",
       "    </tr>\n",
       "  </tbody>\n",
       "</table>\n",
       "</div>"
      ],
      "text/plain": [
       "            Mean Temperature\n",
       "2017-01-01             28.87\n",
       "2017-01-02             28.25\n",
       "2017-01-03             28.25\n",
       "2017-01-04             28.32\n",
       "2017-01-05             28.61"
      ]
     },
     "execution_count": 149,
     "metadata": {},
     "output_type": "execute_result"
    }
   ],
   "source": [
    "value_list = [] # contains all values in list of list \n",
    "mean_list = [] # contains all mean temperature by date \n",
    "data_dict = {} # dict containing date and mean temperature\n",
    "debug_url = []\n",
    "for url in (url_list): # narrowing down to get value for that time of the day \n",
    "    data = get(url) \n",
    "    time.sleep(5)\n",
    "    debug_url.append(url)\n",
    "    try:\n",
    "        datestamp = (data[\"items\"][0][\"timestamp\"])[0:10] \n",
    "        for info in data[\"items\"]:  \n",
    "            #narrowing data down to working hours of stocks exchange\n",
    "            if info.get(\"timestamp\")[11:19] >=\"09:00:00\" and info.get(\"timestamp\")[11:19] < \"17:00:00\": \n",
    "                readings = [info.get(\"readings\")] \n",
    "                for list1 in readings:\n",
    "                    for dicts in list1: \n",
    "                        value_list.append(dicts.get(\"value\"))\n",
    "                mean_temp = round((sum(value_list)/len(value_list)), 2)\n",
    "                data_dict[datestamp] = [mean_temp]\n",
    "                time.sleep(40)\n",
    "    except: \n",
    "        IndexError # ignoring empty datasets\n",
    "\n",
    "df = pd.DataFrame.from_dict(data_dict, orient=\"index\", columns = [\"Mean Temperature\"])\n",
    "df.to_csv(\"Mean_Temperature_During_Day.csv\")\n",
    "\n",
    "df\n",
    "\n",
    "\n"
   ]
  },
  {
   "cell_type": "code",
   "execution_count": 118,
   "metadata": {},
   "outputs": [],
   "source": []
  },
  {
   "cell_type": "code",
   "execution_count": null,
   "metadata": {},
   "outputs": [],
   "source": []
  },
  {
   "cell_type": "code",
   "execution_count": null,
   "metadata": {},
   "outputs": [],
   "source": []
  },
  {
   "cell_type": "code",
   "execution_count": null,
   "metadata": {},
   "outputs": [],
   "source": []
  },
  {
   "cell_type": "code",
   "execution_count": null,
   "metadata": {},
   "outputs": [],
   "source": []
  },
  {
   "cell_type": "code",
   "execution_count": null,
   "metadata": {},
   "outputs": [],
   "source": []
  },
  {
   "cell_type": "code",
   "execution_count": null,
   "metadata": {},
   "outputs": [],
   "source": []
  }
 ],
 "metadata": {
  "kernelspec": {
   "display_name": "Python 3",
   "language": "python",
   "name": "python3"
  },
  "language_info": {
   "codemirror_mode": {
    "name": "ipython",
    "version": 3
   },
   "file_extension": ".py",
   "mimetype": "text/x-python",
   "name": "python",
   "nbconvert_exporter": "python",
   "pygments_lexer": "ipython3",
   "version": "3.6.5"
  }
 },
 "nbformat": 4,
 "nbformat_minor": 2
}
