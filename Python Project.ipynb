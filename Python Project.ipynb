{
 "cells": [
  {
   "cell_type": "markdown",
   "metadata": {},
   "source": [
    "## DS102 Project\n",
    "\n",
    "#### Research Topic\n",
    "Investigating how temperature, humidity and rainfall affects tourist arrivals to Singapore. \n",
    "\n",
    "#### Reason for choice of topic\n",
    "\n",
    "#### Dataset \n",
    "1. Monthly Visitor Arrivals from Singapore Tourism Board in the form of Excel spreadsheet\n",
    "2. Realtime Weather Readings from Jan 2017 to Nov 2018 across Singapore from data.gov.sg in the form of APIs\n",
    "    - Air Temperature\n",
    "    - Relative Humidity \n",
    "    - Rainfall  \n",
    "\n"
   ]
  },
  {
   "cell_type": "code",
   "execution_count": 55,
   "metadata": {},
   "outputs": [],
   "source": [
    "# import libraries \n",
    "import pandas as pd \n",
    "import numpy as np \n",
    "import matplotlib\n",
    "import datetime \n",
    "import requests \n",
    "import csv\n",
    "import time\n"
   ]
  },
  {
   "cell_type": "code",
   "execution_count": 62,
   "metadata": {},
   "outputs": [],
   "source": [
    "# making API calls\n",
    "\n",
    "def get(url): \n",
    "    resp = requests.get(url)\n",
    "    if resp.ok:\n",
    "        return resp.json()\n",
    "    \n",
    "\n",
    "date = datetime.date(2016,12,31)\n",
    "date_list = []\n",
    "url_list = [] # storing all the urls \n",
    "for i in range(730): # 730 is from jan 2017 to dec 2018 \n",
    "    date += datetime.timedelta(days=1) # looping to increase days by 1\n",
    "    start_url = f\"https://api.data.gov.sg/v1/environment/air-temperature?date={date}\"\n",
    "    url_list.append(start_url) \n",
    "    date_list.append(date)\n",
    "    "
   ]
  },
  {
   "cell_type": "code",
   "execution_count": 68,
   "metadata": {},
   "outputs": [
    {
     "ename": "TypeError",
     "evalue": "'NoneType' object is not subscriptable",
     "output_type": "error",
     "traceback": [
      "\u001b[1;31m---------------------------------------------------------------------------\u001b[0m",
      "\u001b[1;31mTypeError\u001b[0m                                 Traceback (most recent call last)",
      "\u001b[1;32m<ipython-input-68-5f0f809327f6>\u001b[0m in \u001b[0;36m<module>\u001b[1;34m()\u001b[0m\n\u001b[0;32m      7\u001b[0m     \u001b[0mdata\u001b[0m \u001b[1;33m=\u001b[0m \u001b[0mget\u001b[0m\u001b[1;33m(\u001b[0m\u001b[0murl\u001b[0m\u001b[1;33m)\u001b[0m\u001b[1;33m\u001b[0m\u001b[0m\n\u001b[0;32m      8\u001b[0m     \u001b[0mdebug_url\u001b[0m\u001b[1;33m.\u001b[0m\u001b[0mappend\u001b[0m\u001b[1;33m(\u001b[0m\u001b[0murl\u001b[0m\u001b[1;33m)\u001b[0m\u001b[1;33m\u001b[0m\u001b[0m\n\u001b[1;32m----> 9\u001b[1;33m     \u001b[0mdatestamp\u001b[0m \u001b[1;33m=\u001b[0m \u001b[1;33m(\u001b[0m\u001b[0mdata\u001b[0m\u001b[1;33m[\u001b[0m\u001b[1;34m\"items\"\u001b[0m\u001b[1;33m]\u001b[0m\u001b[1;33m[\u001b[0m\u001b[1;36m0\u001b[0m\u001b[1;33m]\u001b[0m\u001b[1;33m[\u001b[0m\u001b[1;34m\"timestamp\"\u001b[0m\u001b[1;33m]\u001b[0m\u001b[1;33m)\u001b[0m\u001b[1;33m[\u001b[0m\u001b[1;36m0\u001b[0m\u001b[1;33m:\u001b[0m\u001b[1;36m10\u001b[0m\u001b[1;33m]\u001b[0m\u001b[1;33m\u001b[0m\u001b[0m\n\u001b[0m\u001b[0;32m     10\u001b[0m     \u001b[0mreadings\u001b[0m \u001b[1;33m=\u001b[0m \u001b[1;33m[\u001b[0m\u001b[0minfo\u001b[0m\u001b[1;33m.\u001b[0m\u001b[0mget\u001b[0m\u001b[1;33m(\u001b[0m\u001b[1;34m\"readings\"\u001b[0m\u001b[1;33m)\u001b[0m \u001b[1;32mfor\u001b[0m \u001b[0minfo\u001b[0m \u001b[1;32min\u001b[0m \u001b[0mdata\u001b[0m\u001b[1;33m[\u001b[0m\u001b[1;34m\"items\"\u001b[0m\u001b[1;33m]\u001b[0m\u001b[1;33m]\u001b[0m\u001b[1;33m\u001b[0m\u001b[0m\n\u001b[0;32m     11\u001b[0m     \u001b[1;32mfor\u001b[0m \u001b[0mlist1\u001b[0m \u001b[1;32min\u001b[0m \u001b[0mreadings\u001b[0m\u001b[1;33m:\u001b[0m\u001b[1;33m\u001b[0m\u001b[0m\n",
      "\u001b[1;31mTypeError\u001b[0m: 'NoneType' object is not subscriptable"
     ]
    }
   ],
   "source": [
    "value_list = [] # contains all values in list of list \n",
    "mean_list = [] # contains all mean temperature by date \n",
    "data_dict = {} # dict containing date and mean temperature\n",
    "debug_url = []\n",
    "# value_list_list = []\n",
    "for url in (url_list): # narrowing down to get value for that time of the day \n",
    "    data = get(url)  \n",
    "    debug_url.append(url)\n",
    "    datestamp = (data[\"items\"][0][\"timestamp\"])[0:10] \n",
    "    readings = [info.get(\"readings\") for info in data[\"items\"]]\n",
    "    for list1 in readings:\n",
    "        for list2 in list1: \n",
    "            value_list.append(list2.get(\"value\"))\n",
    "    mean_temp = round((sum(value_list)/len(value_list)), 2)\n",
    "    data_dict[datestamp] = [mean_temp]\n",
    "    time.sleep(45)\n",
    "\n",
    "df = pd.DataFrame.from_dict(data_dict, orient=\"index\", columns = [\"Mean Temperature\"])\n",
    "df\n",
    "\n",
    "# data_dict\n",
    "\n",
    "\n",
    "\n"
   ]
  },
  {
   "cell_type": "code",
   "execution_count": 69,
   "metadata": {},
   "outputs": [
    {
     "data": {
      "text/plain": [
       "['https://api.data.gov.sg/v1/environment/air-temperature?date=2017-01-01',\n",
       " 'https://api.data.gov.sg/v1/environment/air-temperature?date=2017-01-02',\n",
       " 'https://api.data.gov.sg/v1/environment/air-temperature?date=2017-01-03',\n",
       " 'https://api.data.gov.sg/v1/environment/air-temperature?date=2017-01-04',\n",
       " 'https://api.data.gov.sg/v1/environment/air-temperature?date=2017-01-05',\n",
       " 'https://api.data.gov.sg/v1/environment/air-temperature?date=2017-01-06',\n",
       " 'https://api.data.gov.sg/v1/environment/air-temperature?date=2017-01-07',\n",
       " 'https://api.data.gov.sg/v1/environment/air-temperature?date=2017-01-08',\n",
       " 'https://api.data.gov.sg/v1/environment/air-temperature?date=2017-01-09',\n",
       " 'https://api.data.gov.sg/v1/environment/air-temperature?date=2017-01-10',\n",
       " 'https://api.data.gov.sg/v1/environment/air-temperature?date=2017-01-11',\n",
       " 'https://api.data.gov.sg/v1/environment/air-temperature?date=2017-01-12',\n",
       " 'https://api.data.gov.sg/v1/environment/air-temperature?date=2017-01-13',\n",
       " 'https://api.data.gov.sg/v1/environment/air-temperature?date=2017-01-14',\n",
       " 'https://api.data.gov.sg/v1/environment/air-temperature?date=2017-01-15',\n",
       " 'https://api.data.gov.sg/v1/environment/air-temperature?date=2017-01-16',\n",
       " 'https://api.data.gov.sg/v1/environment/air-temperature?date=2017-01-17',\n",
       " 'https://api.data.gov.sg/v1/environment/air-temperature?date=2017-01-18',\n",
       " 'https://api.data.gov.sg/v1/environment/air-temperature?date=2017-01-19',\n",
       " 'https://api.data.gov.sg/v1/environment/air-temperature?date=2017-01-20',\n",
       " 'https://api.data.gov.sg/v1/environment/air-temperature?date=2017-01-21',\n",
       " 'https://api.data.gov.sg/v1/environment/air-temperature?date=2017-01-22',\n",
       " 'https://api.data.gov.sg/v1/environment/air-temperature?date=2017-01-23',\n",
       " 'https://api.data.gov.sg/v1/environment/air-temperature?date=2017-01-24',\n",
       " 'https://api.data.gov.sg/v1/environment/air-temperature?date=2017-01-25',\n",
       " 'https://api.data.gov.sg/v1/environment/air-temperature?date=2017-01-26',\n",
       " 'https://api.data.gov.sg/v1/environment/air-temperature?date=2017-01-27',\n",
       " 'https://api.data.gov.sg/v1/environment/air-temperature?date=2017-01-28',\n",
       " 'https://api.data.gov.sg/v1/environment/air-temperature?date=2017-01-29',\n",
       " 'https://api.data.gov.sg/v1/environment/air-temperature?date=2017-01-30',\n",
       " 'https://api.data.gov.sg/v1/environment/air-temperature?date=2017-01-31',\n",
       " 'https://api.data.gov.sg/v1/environment/air-temperature?date=2017-02-01',\n",
       " 'https://api.data.gov.sg/v1/environment/air-temperature?date=2017-02-02',\n",
       " 'https://api.data.gov.sg/v1/environment/air-temperature?date=2017-02-03',\n",
       " 'https://api.data.gov.sg/v1/environment/air-temperature?date=2017-02-04',\n",
       " 'https://api.data.gov.sg/v1/environment/air-temperature?date=2017-02-05',\n",
       " 'https://api.data.gov.sg/v1/environment/air-temperature?date=2017-02-06',\n",
       " 'https://api.data.gov.sg/v1/environment/air-temperature?date=2017-02-07',\n",
       " 'https://api.data.gov.sg/v1/environment/air-temperature?date=2017-02-08',\n",
       " 'https://api.data.gov.sg/v1/environment/air-temperature?date=2017-02-09']"
      ]
     },
     "execution_count": 69,
     "metadata": {},
     "output_type": "execute_result"
    }
   ],
   "source": [
    "debug_url"
   ]
  },
  {
   "cell_type": "code",
   "execution_count": null,
   "metadata": {},
   "outputs": [],
   "source": []
  },
  {
   "cell_type": "code",
   "execution_count": null,
   "metadata": {},
   "outputs": [],
   "source": []
  },
  {
   "cell_type": "code",
   "execution_count": null,
   "metadata": {},
   "outputs": [],
   "source": []
  },
  {
   "cell_type": "code",
   "execution_count": null,
   "metadata": {},
   "outputs": [],
   "source": []
  },
  {
   "cell_type": "code",
   "execution_count": null,
   "metadata": {},
   "outputs": [],
   "source": []
  },
  {
   "cell_type": "code",
   "execution_count": null,
   "metadata": {},
   "outputs": [],
   "source": []
  }
 ],
 "metadata": {
  "kernelspec": {
   "display_name": "Python 3",
   "language": "python",
   "name": "python3"
  },
  "language_info": {
   "codemirror_mode": {
    "name": "ipython",
    "version": 3
   },
   "file_extension": ".py",
   "mimetype": "text/x-python",
   "name": "python",
   "nbconvert_exporter": "python",
   "pygments_lexer": "ipython3",
   "version": "3.6.5"
  }
 },
 "nbformat": 4,
 "nbformat_minor": 2
}
